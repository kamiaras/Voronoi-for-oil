{
 "cells": [
  {
   "cell_type": "code",
   "execution_count": null,
   "id": "2570bb06",
   "metadata": {},
   "outputs": [],
   "source": [
    "import numpy as np\n",
    "import random\n",
    "from shapely.geometry import Point, MultiPoint\n",
    "from scipy.optimize import differential_evolution as scipy_de\n",
    "from shapely.ops import nearest_points\n",
    "\n",
    "import voronoi_utils as vu\n",
    "import solvers\n",
    "\n",
    "def is_feasible(n, fixed, polygon, A_min, params, solver=\"custom\"):\n",
    "    if n == 0:\n",
    "        _, areas = vu.get_voronoi_cells_and_areas(fixed, polygon)\n",
    "        ok = min(areas) >= A_min\n",
    "        print(f\"[n=0] {'feasible' if ok else 'not feasible'}\")\n",
    "        if ok:\n",
    "            vu.plot_voronoi(fixed, [], polygon)\n",
    "        return ok, []\n",
    "\n",
    "    minx, miny, maxx, maxy = polygon.bounds\n",
    "    bounds = [(minx, maxx), (miny, maxy)] * n\n",
    "\n",
    "    def loss(x_flat):\n",
    "        pts = [(x_flat[i], x_flat[i+1]) for i in range(0, len(x_flat), 2)]\n",
    "        for xi, yi in pts:\n",
    "            if not polygon.contains(Point(xi, yi)):\n",
    "                return 1e6\n",
    "        _, areas = vu.get_voronoi_cells_and_areas(fixed + pts, polygon)\n",
    "        return -min(areas)\n",
    "\n",
    "    if solver == \"custom\":\n",
    "        bx, bf = solvers.differential_evolution_custom(loss, bounds, polygon, A_min, params)\n",
    "    elif solver == \"scipy\":\n",
    "        # Early‐exit callback: stop if the minimum Voronoi cell area ≥ A_min\n",
    "        def _callback(xk, convergence=None):\n",
    "            # xk is the current best candidate vector\n",
    "            # loss(xk) = –(min cell area), so –loss(xk) == min cell area\n",
    "            if -loss(xk) >= A_min:\n",
    "                return True  # tells SciPy to terminate early\n",
    "        res = scipy_de(\n",
    "            loss, bounds,\n",
    "            maxiter=params[\"maxiter\"],\n",
    "            popsize=params[\"popsize\"],\n",
    "            seed=params.get(\"seed\", None),\n",
    "            updating=\"deferred\",\n",
    "            callback=_callback\n",
    "        )\n",
    "        bx, bf = res.x, res.fun\n",
    "\n",
    "    elif solver == \"qpso\":\n",
    "        bx, bf = solvers.qpso_solver(loss, bounds, polygon, A_min, params)\n",
    "    elif solver == \"qpso2\":\n",
    "        bx, bf = solvers.qpso_pairwise_solver(loss, bounds, polygon, A_min, params)\n",
    "    elif solver == \"ga\":\n",
    "        bx, bf = solvers.ga_solver(loss, bounds, polygon, A_min, params)\n",
    "    elif solver == \"spsa\":\n",
    "        bx, bf = solvers.spsa_solver(loss, bounds, polygon, A_min, params)\n",
    "    else:\n",
    "        raise ValueError(\"Unknown solver\")\n",
    "\n",
    "    best_min = -bf\n",
    "    ok = best_min >= A_min\n",
    "    print(f\"[n={n}] {'feasible' if ok else 'not feasible'} with min_cell_area = {best_min:.4f}\")\n",
    "    if ok:\n",
    "        added = [(bx[i], bx[i+1]) for i in range(0, len(bx), 2)]\n",
    "        vu.plot_voronoi(fixed, added, polygon)\n",
    "        return True, added\n",
    "    return False, []\n",
    "\n",
    "def find_max_additional(fixed, polygon, A_min, params, solver=\"custom\"):\n",
    "    print(f\"Minimum area threshold (A_min): {A_min:.4f}\")\n",
    "    ok, _ = is_feasible(0, fixed, polygon, A_min, params, solver)\n",
    "    if not ok:\n",
    "        return 0, []\n",
    "\n",
    "    low, n = 0, 1\n",
    "    best_added = []\n",
    "    while True:\n",
    "        ok, added = is_feasible(n, fixed, polygon, A_min, params, solver)\n",
    "        if not ok:\n",
    "            break\n",
    "        low, best_added = n, added\n",
    "        n *= 2\n",
    "\n",
    "    print(f\"Starting binary search between n={low} (feasible) and n={n} (infeasible)\")\n",
    "    lo, hi = low, n\n",
    "    while lo < hi - 1:\n",
    "        mid = (lo + hi) // 2\n",
    "        ok, added = is_feasible(mid, fixed, polygon, A_min, params, solver)\n",
    "        if ok:\n",
    "            lo, best_added = mid, added\n",
    "        else:\n",
    "            hi = mid\n",
    "\n",
    "    print(f\"Result → Max extra points: {lo}\")\n",
    "    return lo, best_added\n"
   ]
  },
  {
   "cell_type": "markdown",
   "id": "6584dc12",
   "metadata": {},
   "source": [
    "# seed\n",
    " = 3 we have 8 achivealbe\n",
    " \n",
    " = 30 we have 9\n",
    "\n",
    " = 6 we have 8\n",
    " = 8 we have 9"
   ]
  },
  {
   "cell_type": "code",
   "execution_count": null,
   "id": "99226aa7",
   "metadata": {},
   "outputs": [],
   "source": [
    "s = 8\n",
    "random.seed(s)\n",
    "np.random.seed(s)\n",
    "\n",
    "pts = np.random.rand(30, 2)\n",
    "polygon = MultiPoint([tuple(p) for p in pts]).convex_hull\n",
    "\n",
    "fixed = []\n",
    "minx, miny, maxx, maxy = polygon.bounds\n",
    "while len(fixed) < 5:\n",
    "    x, y = random.uniform(minx, maxx), random.uniform(miny, maxy)\n",
    "    if polygon.contains(Point(x, y)):\n",
    "        fixed.append((x, y))\n",
    "\n",
    "A_min = polygon.area / 15\n",
    "\n",
    "\n",
    "spsa_params   = {\"maxiter\": 300, \"a\": 0.1, \"c\": 0.001,\n",
    "                    \"alpha\": 0.5, \"gamma\": 0.001, \"restarts\": 30, \"seed\": None}\n",
    "custom_params = {\"maxiter\": 400, \"popsize\": 200, \"F\": 0.8, \"CR\": 0.7, \"seed\": None}\n",
    "scipy_params  = {\"maxiter\": 50, \"popsize\": 25, \"seed\": None}\n",
    "qpso_params   = {\"maxiter\": 350, \"popsize\": 50, \"alpha\": 0.75, \"seed\": None}\n",
    "ga_params     = {\n",
    "    \"popsize\": 50,\n",
    "    \"ngen\": 350,\n",
    "    \"cxpb\": 0.6,\n",
    "    \"mutpb\": 0.3,\n",
    "    \"sigma\": 0.1,\n",
    "    \"indpb\": 0.1,\n",
    "    \"seed\": None\n",
    "}"
   ]
  },
  {
   "cell_type": "code",
   "execution_count": null,
   "id": "98bffede",
   "metadata": {},
   "outputs": [],
   "source": [
    "print(\"=== SPSA Solver ===\")\n",
    "find_max_additional(fixed, polygon, A_min, spsa_params, solver=\"spsa\")"
   ]
  },
  {
   "cell_type": "code",
   "execution_count": null,
   "id": "20764142",
   "metadata": {},
   "outputs": [],
   "source": [
    "print(\"=== Custom DE ===\")\n",
    "find_max_additional(fixed, polygon, A_min, custom_params, solver=\"custom\")"
   ]
  },
  {
   "cell_type": "code",
   "execution_count": null,
   "id": "ce72f34b",
   "metadata": {},
   "outputs": [],
   "source": [
    "print(\"\\n=== SciPy DE ===\")\n",
    "find_max_additional(fixed, polygon, A_min, scipy_params, solver=\"scipy\")"
   ]
  },
  {
   "cell_type": "code",
   "execution_count": null,
   "id": "df9ae967",
   "metadata": {},
   "outputs": [],
   "source": [
    "print(\"\\n=== QPSO (original) ===\")\n",
    "find_max_additional(fixed, polygon, A_min, qpso_params, solver=\"qpso\")"
   ]
  },
  {
   "cell_type": "code",
   "execution_count": null,
   "id": "bcf17a82",
   "metadata": {},
   "outputs": [],
   "source": [
    "print(\"\\n=== QPSO (pairwise) ===\")\n",
    "find_max_additional(fixed, polygon, A_min, qpso_params, solver=\"qpso2\")"
   ]
  },
  {
   "cell_type": "code",
   "execution_count": null,
   "id": "2c8c2754",
   "metadata": {},
   "outputs": [],
   "source": [
    "print(\"\\n=== GA Solver ===\")\n",
    "find_max_additional(fixed, polygon, A_min, ga_params, solver=\"ga\")"
   ]
  }
 ],
 "metadata": {
  "kernelspec": {
   "display_name": ".venv",
   "language": "python",
   "name": "python3"
  },
  "language_info": {
   "codemirror_mode": {
    "name": "ipython",
    "version": 3
   },
   "file_extension": ".py",
   "mimetype": "text/x-python",
   "name": "python",
   "nbconvert_exporter": "python",
   "pygments_lexer": "ipython3",
   "version": "3.12.3"
  }
 },
 "nbformat": 4,
 "nbformat_minor": 5
}
